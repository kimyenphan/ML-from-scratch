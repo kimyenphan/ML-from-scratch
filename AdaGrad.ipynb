{
 "cells": [
  {
   "cell_type": "code",
   "execution_count": null,
   "metadata": {},
   "outputs": [],
   "source": [
    "import numpy as np\n",
    "from sklearn.tree import DecisionTreeClassifier\n",
    "from pathlib import Path"
   ]
  },
  {
   "cell_type": "code",
   "execution_count": 7,
   "metadata": {},
   "outputs": [],
   "source": [
    "def adaboost(X, y, num_iter, max_depth=1):\n",
    "    \"\"\"Given an numpy matrix X, a array y and num_iter return trees and weights \n",
    "   \n",
    "    Input: X, y, num_iter\n",
    "    Outputs: array of trees from DecisionTreeClassifier\n",
    "             trees_weights array of floats\n",
    "    Assumes y is {-1, 1}\n",
    "    \"\"\"\n",
    "    trees = []\n",
    "    trees_weights = [] \n",
    "    N, _ = X.shape\n",
    "    d = np.ones(N) / N\n",
    "\n",
    "    for m in range(num_iter):\n",
    "        # Train decision stump\n",
    "        weak_classifier = DecisionTreeClassifier(max_depth=1, random_state=0)\n",
    "        weak_classifier.fit(X, y, sample_weight=d)\n",
    "        y_pred = weak_classifier.predict(X)\n",
    "        err = np.sum(d * (y != y_pred))\n",
    "        alpha = 0.5*np.log((1 - err) / err)\n",
    "        \n",
    "        for i in range(len(d)):\n",
    "            if y[i] == y_pred[i]: \n",
    "                continue\n",
    "            else:\n",
    "                d[i] *= alpha\n",
    "\n",
    "        d /= np.sum(d)\n",
    "        trees_weights.append(alpha)\n",
    "        trees.append(weak_classifier)\n",
    "\n",
    "    return trees, trees_weights\n",
    "\n",
    "\n",
    "def adaboost_predict(X, trees, trees_weights):\n",
    "    \"\"\"Given X, trees and weights predict Y\n",
    "    \"\"\"\n",
    "    N, _ =  X.shape\n",
    "    y = np.zeros(N)\n",
    "    for alpha,tree in zip(trees_weights,trees):\n",
    "        y=y+alpha*tree.predict(X)\n",
    "    \n",
    "    return np.sign(y)\n"
   ]
  },
  {
   "cell_type": "markdown",
   "metadata": {},
   "source": [
    "---\n",
    "## Test on a sample data\n"
   ]
  },
  {
   "cell_type": "code",
   "execution_count": 8,
   "metadata": {},
   "outputs": [
    {
     "data": {
      "text/plain": [
       "0.9385964912280702"
      ]
     },
     "execution_count": 8,
     "metadata": {},
     "output_type": "execute_result"
    }
   ],
   "source": [
    "from sklearn.datasets import load_breast_cancer\n",
    "from sklearn.model_selection import train_test_split\n",
    "\n",
    "# Load breast cancer dataset\n",
    "data = load_breast_cancer()\n",
    "X, y = data.data, data.target\n",
    "# Convert targets to {-1, 1}\n",
    "y[y == 0] = -1\n",
    "\n",
    "# Split the dataset\n",
    "X_train, X_test, y_train, y_test = train_test_split(X, y, test_size=0.2, random_state=42)\n",
    "\n",
    "# Applying Adaboost\n",
    "num_iter = 10\n",
    "trees, trees_weights = adaboost(X_train, y_train, num_iter)\n",
    "\n",
    "# Predicting\n",
    "y_pred = adaboost_predict(X_test, trees, trees_weights)\n",
    "\n",
    "# Accuracy\n",
    "accuracy = np.sum(y_test == y_pred) / float(len(y_test))\n",
    "accuracy"
   ]
  },
  {
   "cell_type": "code",
   "execution_count": null,
   "metadata": {},
   "outputs": [],
   "source": []
  }
 ],
 "metadata": {
  "kernelspec": {
   "display_name": "base",
   "language": "python",
   "name": "python3"
  },
  "language_info": {
   "codemirror_mode": {
    "name": "ipython",
    "version": 3
   },
   "file_extension": ".py",
   "mimetype": "text/x-python",
   "name": "python",
   "nbconvert_exporter": "python",
   "pygments_lexer": "ipython3",
   "version": "3.11.0"
  }
 },
 "nbformat": 4,
 "nbformat_minor": 2
}
